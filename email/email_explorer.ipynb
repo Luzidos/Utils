{
 "cells": [
  {
   "cell_type": "code",
   "execution_count": 3,
   "metadata": {},
   "outputs": [
    {
     "name": "stdout",
     "output_type": "stream",
     "text": [
      "/Users/andrescarranza/Documents/GitHub/Luzidos/src/services/invoice_agent\n"
     ]
    }
   ],
   "source": [
    "%cd /Users/andrescarranza/Documents/GitHub/Luzidos/src/services/invoice_agent/"
   ]
  },
  {
   "cell_type": "code",
   "execution_count": 4,
   "metadata": {},
   "outputs": [
    {
     "name": "stdout",
     "output_type": "stream",
     "text": [
      "Messages per thread:  4\n",
      "An error occurred (NoSuchKey) when calling the GetObject operation: The specified key does not exist. \n",
      "File not found in luzidosdatadump/private/emailtester/emails/email_18d3e242f8854876/email.json\n",
      "Marking message 18d3e242f8854876 as read.\n",
      "Marking message 18d3f0f61fc46144 as read.\n",
      "Marking message 18d3f10082cc0894 as read.\n",
      "Attachment Screenshot 2024-01-23 at 11.18.41 AM.png uploaded to S3.\n",
      "File uploaded successfully to luzidosdatadump/private/emailtester/emails/email_18d3e242f8854876/attachments/d277fded-1063-4494-9818-bae67a0be9c2.json\n",
      "Marking message 18d3f3306aab7cd3 as read.\n",
      "File uploaded successfully to luzidosdatadump/private/emailtester/emails/email_18d3e242f8854876/email.json\n"
     ]
    }
   ],
   "source": [
    "from utils.io.email.emailAPI import GmailClient\n",
    "from utils.io.s3 import read_write_utils as rw_utils\n",
    "#\n",
    "# Usage\n",
    "scopes = ['https://www.googleapis.com/auth/gmail.modify']\n",
    "gmail_client = GmailClient('token.json', '/Users/andrescarranza/Documents/GitHub/Luzidos/src/services/invoice_agent/utils/io/email/credentials.json', scopes, 'emailtester')\n",
    "\n",
    "threads = gmail_client.upload_unread_messages_to_s3('is:unread') # is:unread or is:read"
   ]
  },
  {
   "cell_type": "code",
   "execution_count": 6,
   "metadata": {},
   "outputs": [
    {
     "data": {
      "text/plain": [
       "{'thread_id': '18e1bedde029372b',\n",
       " 'messages': [{'Date': 'Thu, 7 Mar 2024 18:39:27 -0800',\n",
       "   'Subject': 'test email',\n",
       "   'From': 'Luzidos <luzidosai@gmail.com>',\n",
       "   'To': 'acarrnza@stanford.edu',\n",
       "   'labelIds': ['UNREAD', 'SENT'],\n",
       "   'payload': 'This is email #1\\n',\n",
       "   'message_id': '18e1bee02d1d2baa'},\n",
       "  {'From': 'Andres Carranza <andres.carranza@stanford.edu>',\n",
       "   'To': 'Luzidos <luzidosai@gmail.com>',\n",
       "   'Subject': 'Re: test email',\n",
       "   'Date': 'Fri, 8 Mar 2024 02:39:56 +0000',\n",
       "   'labelIds': ['UNREAD', 'IMPORTANT', 'CATEGORY_PERSONAL', 'INBOX'],\n",
       "   'payload': 'This is email #2\\n\\nFrom: Luzidos <luzidosai@gmail.com>\\nDate: Thursday, March 7, 2024 at 6:39 PM\\nTo: Andres Carranza <andres.carranza@stanford.edu>\\nSubject: test email\\nThis is email #1\\n',\n",
       "   'message_id': '18e1bee8d151f96b'},\n",
       "  {'Date': 'Thu, 7 Mar 2024 18:40:13 -0800',\n",
       "   'Subject': 'Re: test email',\n",
       "   'From': 'Luzidos <luzidosai@gmail.com>',\n",
       "   'To': 'Andres Carranza <andres.carranza@stanford.edu>',\n",
       "   'labelIds': ['UNREAD', 'SENT'],\n",
       "   'payload': 'This is email #3\\n\\nOn Thu, Mar 7, 2024 at 6:40\\u202fPM Andres Carranza <andres.carranza@stanford.edu>\\nwrote:\\n\\n\\x1b[1;36m>\\x1b[0m This is email #2\\n\\x1b[1;36m>\\x1b[0m\\n\\x1b[1;36m>\\x1b[0m\\n\\x1b[1;36m>\\x1b[0m\\n\\x1b[1;36m>\\x1b[0m *From: *Luzidos <luzidosai@gmail.com>\\n\\x1b[1;36m>\\x1b[0m *Date: *Thursday, March 7, 2024 at 6:39 PM\\n\\x1b[1;36m>\\x1b[0m *To: *Andres Carranza <andres.carranza@stanford.edu>\\n\\x1b[1;36m>\\x1b[0m *Subject: *test email\\n\\x1b[1;36m>\\x1b[0m\\n\\x1b[1;36m>\\x1b[0m This is email #1\\n\\x1b[1;36m>\\x1b[0m\\n',\n",
       "   'message_id': '18e1beeb8282da31'}]}"
      ]
     },
     "execution_count": 6,
     "metadata": {},
     "output_type": "execute_result"
    }
   ],
   "source": [
    "threads[0]"
   ]
  },
  {
   "cell_type": "markdown",
   "metadata": {},
   "source": []
  }
 ],
 "metadata": {
  "kernelspec": {
   "display_name": "base",
   "language": "python",
   "name": "python3"
  },
  "language_info": {
   "codemirror_mode": {
    "name": "ipython",
    "version": 3
   },
   "file_extension": ".py",
   "mimetype": "text/x-python",
   "name": "python",
   "nbconvert_exporter": "python",
   "pygments_lexer": "ipython3",
   "version": "3.10.13"
  }
 },
 "nbformat": 4,
 "nbformat_minor": 2
}
